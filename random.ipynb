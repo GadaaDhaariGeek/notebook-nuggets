{
  "cells": [
    {
      "cell_type": "code",
      "execution_count": 2,
      "id": "b3396fe4",
      "metadata": {
        "id": "b3396fe4"
      },
      "outputs": [],
      "source": [
        "import os\n",
        "import sys"
      ]
    },
    {
      "cell_type": "code",
      "execution_count": 4,
      "id": "cfe85fc3",
      "metadata": {
        "id": "cfe85fc3"
      },
      "outputs": [],
      "source": [
        "from dotenv import load_dotenv"
      ]
    },
    {
      "cell_type": "code",
      "source": [
        "load_dotenv()"
      ],
      "metadata": {
        "id": "QUvlsv6m5wq1",
        "outputId": "f5a0ce35-912f-476b-c935-bb9a53809adc",
        "colab": {
          "base_uri": "https://localhost:8080/"
        }
      },
      "id": "QUvlsv6m5wq1",
      "execution_count": 7,
      "outputs": [
        {
          "output_type": "execute_result",
          "data": {
            "text/plain": [
              "False"
            ]
          },
          "metadata": {},
          "execution_count": 7
        }
      ]
    },
    {
      "cell_type": "code",
      "source": [
        "!pwd\n"
      ],
      "metadata": {
        "id": "U0qxiKzW6P-8",
        "outputId": "cb8ad2b8-7aaf-439e-c617-fe1d9d89ea5e",
        "colab": {
          "base_uri": "https://localhost:8080/"
        }
      },
      "id": "U0qxiKzW6P-8",
      "execution_count": 6,
      "outputs": [
        {
          "output_type": "stream",
          "name": "stdout",
          "text": [
            "/content\n"
          ]
        }
      ]
    },
    {
      "cell_type": "code",
      "source": [],
      "metadata": {
        "id": "P1h2C71a6cAr"
      },
      "id": "P1h2C71a6cAr",
      "execution_count": null,
      "outputs": []
    }
  ],
  "metadata": {
    "kernelspec": {
      "display_name": "llms",
      "language": "python",
      "name": "python3"
    },
    "language_info": {
      "codemirror_mode": {
        "name": "ipython",
        "version": 3
      },
      "file_extension": ".py",
      "mimetype": "text/x-python",
      "name": "python",
      "nbconvert_exporter": "python",
      "pygments_lexer": "ipython3",
      "version": "3.13.5"
    },
    "colab": {
      "provenance": []
    }
  },
  "nbformat": 4,
  "nbformat_minor": 5
}